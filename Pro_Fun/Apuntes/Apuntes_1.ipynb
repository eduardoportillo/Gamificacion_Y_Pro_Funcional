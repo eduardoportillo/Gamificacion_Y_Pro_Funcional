{
 "cells": [
  {
   "attachments": {},
   "cell_type": "markdown",
   "metadata": {},
   "source": [
    "### Función\n",
    "\n",
    "Es una porción de código o subrutina (proceso), que tiene como objetivo cumplir con una acción en específico."
   ]
  },
  {
   "attachments": {},
   "cell_type": "markdown",
   "metadata": {},
   "source": [
    "### Objeto\n",
    "\n",
    "Es la representación abstracta de un objeto del mundo real a través de código. Este objeto tiene algunas características:\n",
    "- Atributos\n",
    "- Métodos\n",
    "- Eventos\n",
    "\n",
    "#### Diferencia entre una función y un método\n",
    "\n",
    "Una función, al ser una porción de código puede existir sin verse afectada por otros elementos de su entorno. En cambio\n",
    "el método sólo existe si existe una instancia del objeto al cuál pertenece."
   ]
  },
  {
   "attachments": {},
   "cell_type": "markdown",
   "metadata": {},
   "source": [
    "### Pilares del paradigma de la Programación Funcional\n",
    "\n",
    "-   Funciones Puras:\n",
    "\n",
    "    Las funciones puras son aquellas que producen el mismo resultado siempre que se les dé la misma entrada, sin tener efectos secundarios en el sistema. No dependen de ningún estado externo, no modifican ningún estado externo, no generan efectos secundarios como entrada/salida de archivos, y no llaman a funciones que tienen efectos secundarios. Al no depender de ningún estado externo, son más predecibles y fáciles de probar, lo que hace que el código sea más fácil de entender, depurar y mantener.\n",
    "\n",
    "-   Funciones Inmutables:\n",
    "\n",
    "    una función inmutable se refiere a una función que no modifica el estado de los datos o variables que se le pasan como argumentos. En otras palabras, función inmutable no tiene efectos secundarios y siempre produce el mismo resultado para una entrada dada.\n",
    "\n",
    "-   Fáciles de invocar:\n",
    "\n",
    "    En programación funcional, la facilidad de invocación se refiere a la capacidad de invocar una función con cualquier argumento que cumpla con los requisitos de entrada de la función.\n"
   ]
  },
  {
   "cell_type": "code",
   "execution_count": 13,
   "metadata": {},
   "outputs": [],
   "source": [
    "value_for_sum = 12\n",
    "\n",
    "\n",
    "def integers_sum(number):\n",
    "    return number + value_for_sum\n",
    "\n",
    "\n",
    "def pure_integers_sum(number, second_number=12):\n",
    "    return number + second_number\n",
    "\n",
    "\n",
    "def pure_integers_sub(number, second_number):\n",
    "    return number - second_number\n",
    "\n",
    "\n",
    "def pure_integers_multiply(number, second_number):\n",
    "    return number * second_number\n",
    "\n",
    "\n",
    "def pure_integers_division(number, second_number):\n",
    "    if second_number == 0:\n",
    "        return 'No es posible dividir un número entre 0'\n",
    "    return number / second_number\n",
    "\n",
    "\n",
    "def powered_list(array):\n",
    "    result = []\n",
    "    for item in array:\n",
    "        result.append(item ** 5)\n",
    "    return result\n",
    "\n",
    "\n",
    "def calculator_operation(first_value, second_value, function):\n",
    "    return function(first_value, second_value)\n",
    "\n",
    "\n",
    "def powered(base, power):\n",
    "    return base ** power\n",
    "\n",
    "\n",
    "def apply_power_over_list(array, power, function):\n",
    "    return [function(item, power) for item in array]\n",
    "\n",
    "\n",
    "# Escribir una función que permita filtrar desde un arreglo aquellos elementos que sean impares\n",
    "\n",
    "def search_odd_number_in_list(array):\n",
    "    return [item for item in array if item % 2 == 1]\n",
    "\n",
    "\n",
    "def is_odd(number):\n",
    "    if number % 2 == 1:\n",
    "        return number\n",
    "\n",
    "\n",
    "def apply_function_over_list(array, function):\n",
    "    return [item for item in array if function(item)]\n"
   ]
  },
  {
   "attachments": {},
   "cell_type": "markdown",
   "metadata": {},
   "source": [
    "### Módulo de Programación Funcional en Python\n",
    "- Función MAP: Aplica una función sobre todos los elementos de un iterable\n",
    "- Función FILTER: Aplica una función discriminadora sobre los elementos del iterable\n",
    "- Función REDUCE: Retorna el valor acumulado después de aplicar una función sobre todos los elementos del iterable "
   ]
  },
  {
   "cell_type": "code",
   "execution_count": 14,
   "metadata": {},
   "outputs": [],
   "source": [
    "def using_map(array, function):\n",
    "    return list(map(function, array))\n",
    "\n",
    "\n",
    "def using_filter(array, function):\n",
    "    return list(filter(function, array))\n",
    "\n",
    "\n",
    "def using_reduce(array, function):\n",
    "    return reduce(function, array)\n",
    "\n",
    "\n",
    "def count_characters_from_words(message):\n",
    "    split_message = lambda words: words.split(' ')\n",
    "    # def split_message(words): return words.split(' ')\n",
    "    return {word: len(word) for word in split_message(message)}"
   ]
  },
  {
   "cell_type": "code",
   "execution_count": 15,
   "metadata": {},
   "outputs": [
    {
     "name": "stdout",
     "output_type": "stream",
     "text": [
      "Suma con una función y una constante: 17\n",
      "Suma con una función pura: 17\n",
      "Suma con una función pura y un segundo número: 32\n",
      "---------- Calculadora ----------------\n",
      "Sumando 13 y 41: 54\n",
      "Restando 13 y 41: -28\n",
      "Multiplicando 13 y 41: 533\n",
      "Dividiendo 13 y 41: 0.3170731707317073\n",
      "Dividiendo 13 y 0: No es posible dividir un número entre 0\n",
      "-------------------------------------------\n",
      "Arreglo elevado a la 5ta. potencia: [32, 7776, -243, 32768, -161051, 3125, 32768, 759375]\n",
      "Arreglo elevado a la 3ra. potencia: [8, 216, -27, 512, -1331, 125, 512, 3375]\n",
      "-------------------------------------------\n",
      "Buscando impares en una lista: [-3, -11, 5, 15]\n",
      "Buscando impares en una lista con funciones puras: [-3, -11, 5, 15]\n",
      "Buscando impares en una lista con funciones anónima: [-3, -11, 5, 15]\n",
      "-------------------------------------------\n",
      "Aplicando la función builtin MAP: [14, 18, 9, 20, 1, 17, 20, 27]\n",
      "Aplicando la función builtin FILTER para obtener los impares: [-3, -11, 5, 15]\n",
      "Aplicando la función REDUCE: 30\n",
      "Contando los caracteres del mensaje: {'El': 2, 'examen': 6, 'no': 2, 'estará': 6, 'tan': 3, 'difícil': 7, '(según': 6, 'yo)': 3}\n"
     ]
    }
   ],
   "source": [
    "# Press the green button in the gutter to run the script.\n",
    "\n",
    "if __name__ == '__main__':\n",
    "\tprint(f'Suma con una función y una constante: {integers_sum(5)}')\n",
    "\tprint(f'Suma con una función pura: {pure_integers_sum(5)}')\n",
    "\tprint(f'Suma con una función pura y un segundo número: {pure_integers_sum(5, second_number=27)}')\n",
    "\tprint('---------- Calculadora ----------------')\n",
    "\tprint(f'Sumando 13 y 41: {calculator_operation(13, 41, pure_integers_sum)}')\n",
    "\tprint(f'Restando 13 y 41: {calculator_operation(13, 41, pure_integers_sub)}')\n",
    "\tprint(f'Multiplicando 13 y 41: {calculator_operation(13, 41, pure_integers_multiply)}')\n",
    "\tprint(f'Dividiendo 13 y 41: {calculator_operation(13, 41, pure_integers_division)}')\n",
    "\tprint(f'Dividiendo 13 y 0: {calculator_operation(13, 0, pure_integers_division)}')\n",
    "\tprint('-------------------------------------------')\n",
    "\tinteger_list = [2, 6, -3, 8, -11, 5, 8, 15]\n",
    "\tprint(f'Arreglo elevado a la 5ta. potencia: {powered_list(integer_list)}')\n",
    "\tprint(f'Arreglo elevado a la 3ra. potencia: {apply_power_over_list(integer_list, 3, powered)}')\n",
    "\tprint('-------------------------------------------')\n",
    "\tprint(f'Buscando impares en una lista: {search_odd_number_in_list(integer_list)}')\n",
    "\tanonymous_odd = lambda number: number if number % 2 == 1 else None\n",
    "\tprint(f'Buscando impares en una lista con funciones puras: {apply_function_over_list(integer_list, is_odd)}')\n",
    "\tprint(\n",
    "\t\tf'Buscando impares en una lista con funciones anónima: {apply_function_over_list(integer_list, anonymous_odd)}')\n",
    "\tprint('-------------------------------------------')\n",
    "\tprint(f'Aplicando la función builtin MAP: {using_map(integer_list, pure_integers_sum)}')\n",
    "\tprint(f'Aplicando la función builtin FILTER para obtener los impares: {using_filter(integer_list, is_odd)}')\n",
    "\tprint(f'Aplicando la función REDUCE: {using_reduce(integer_list, pure_integers_sum)}')\n",
    "\tmessage = 'El examen no estará tan difícil (según yo)'\n",
    "\tprint(f'Contando los caracteres del mensaje: {count_characters_from_words(message)}')\n"
   ]
  }
 ],
 "metadata": {
  "kernelspec": {
   "display_name": "Python 3",
   "language": "python",
   "name": "python3"
  },
  "language_info": {
   "codemirror_mode": {
    "name": "ipython",
    "version": 3
   },
   "file_extension": ".py",
   "mimetype": "text/x-python",
   "name": "python",
   "nbconvert_exporter": "python",
   "pygments_lexer": "ipython3",
   "version": "3.10.6"
  },
  "orig_nbformat": 4
 },
 "nbformat": 4,
 "nbformat_minor": 2
}
